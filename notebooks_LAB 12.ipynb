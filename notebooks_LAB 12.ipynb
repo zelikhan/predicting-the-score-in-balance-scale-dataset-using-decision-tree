{
  "metadata": {
    "toc-autonumbering": false,
    "toc-showmarkdowntxt": true,
    "toc-showcode": true,
    "language_info": {
      "codemirror_mode": {
        "name": "python",
        "version": 3
      },
      "file_extension": ".py",
      "mimetype": "text/x-python",
      "name": "python",
      "nbconvert_exporter": "python",
      "pygments_lexer": "ipython3",
      "version": "3.8"
    },
    "kernelspec": {
      "name": "python",
      "display_name": "Python (Pyodide)",
      "language": "python"
    }
  },
  "nbformat_minor": 4,
  "nbformat": 4,
  "cells": [
    {
      "cell_type": "code",
      "source": "import pandas as pd\nimport numpy as np\nfrom sklearn.metrics import accuracy_score\nfrom sklearn import preprocessing\nfrom sklearn.model_selection import train_test_split\nfrom sklearn.tree import DecisionTreeClassifier\n\ndf=pd.read_csv(\"car.csv\")\ncol_names=[\"buying\",\"maint\",\"doors\",\"persons\",\"lugg_boot\",\"safety\",\"class\"]\ndf.columns=col_names\n\nle=preprocessing.LabelEncoder()\nfor col in df.columns:\n    df[col]=le.fit_transform(df[col])\n\nx=df.drop(\"class\",axis=1)\ny=df[\"class\"]\n\nX_train, X_test, y_train, y_test =train_test_split(x,y,test_size=0.20,random_state=0)\n\nmy_model_entropy=DecisionTreeClassifier(criterion=\"entropy\",max_depth=3,random_state=0)\nmy_model_entropy.fit(X_train, y_train)\ny_pred_entropy=my_model_entropy.predict(X_test)\naccuracy_entropy=accuracy_score(y_pred_entropy,y_test)\nprint(\"Accuracy with Entropy: {}%\",accuracy_entropy*100)\n\nmy_model_gini=DecisionTreeClassifier(criterion=\"gini\",max_depth=3,random_state=0)\nmy_model_gini.fit(X_train, y_train)\ny_pred_gini=my_model_gini.predict(X_test)\naccuracy_gini=accuracy_score(y_pred_gini,y_test)\nprint(\"Accuracy with Gini: {}%\".format(accuracy_gini*100))",
      "metadata": {
        "trusted": true
      },
      "execution_count": 5,
      "outputs": [
        {
          "name": "stdout",
          "text": "Accuracy with Entropy: {}% 78.90173410404624\nAccuracy with Gini: 77.74566473988439%\n",
          "output_type": "stream"
        }
      ]
    },
    {
      "cell_type": "code",
      "source": "import pandas as pd\nfrom sklearn.tree import DecisionTreeClassifier\nfrom sklearn.metrics import accuracy_score, precision_score, recall_score, f1_score, confusion_matrix\nfrom sklearn.model_selection import train_test_split\nfrom sklearn.preprocessing import LabelEncoder\n\ndf = pd.read_csv(\"balance-scale.csv\")\ncolumn_names = ['Class', 'left_weight', 'left_distance', 'right_weight', 'right_distance']\ndf.columns = column_names\n\nprint(df.nunique())\n\nprint(df.isnull().sum())\n\nprint(df.describe())\n\nX = df.drop('Class', axis=1)\ny = df['Class']\n\nlabel_encoder = LabelEncoder()\ny = label_encoder.fit_transform(y)\n\nX_train, X_test, y_train, y_test = train_test_split(X, y, test_size=0.3, random_state=42)\n\nclf_gini = DecisionTreeClassifier(criterion='gini')\nclf_entropy = DecisionTreeClassifier(criterion='entropy')\n\nclf_gini.fit(X_train, y_train)\nclf_entropy.fit(X_train, y_train)\n\ny_pred_gini = clf_gini.predict(X_test)\ny_pred_entropy = clf_entropy.predict(X_test)\n\naccuracy_gini = accuracy_score(y_test, y_pred_gini)\naccuracy_entropy = accuracy_score(y_test, y_pred_entropy)\n\nprint('Accuracy score with gini criterion: {:.4f}'.format(accuracy_gini))\nprint('Accuracy score with entropy criterion: {:.4f}'.format(accuracy_entropy))",
      "metadata": {
        "trusted": true
      },
      "execution_count": 11,
      "outputs": [
        {
          "name": "stdout",
          "text": "Class             3\nleft_weight       5\nleft_distance     5\nright_weight      5\nright_distance    5\ndtype: int64\nClass             0\nleft_weight       0\nleft_distance     0\nright_weight      0\nright_distance    0\ndtype: int64\n       left_weight  left_distance  right_weight  right_distance\ncount   624.000000     624.000000    624.000000      624.000000\nmean      3.003205       3.003205      3.003205        3.003205\nstd       1.414210       1.414210      1.414210        1.414210\nmin       1.000000       1.000000      1.000000        1.000000\n25%       2.000000       2.000000      2.000000        2.000000\n50%       3.000000       3.000000      3.000000        3.000000\n75%       4.000000       4.000000      4.000000        4.000000\nmax       5.000000       5.000000      5.000000        5.000000\nAccuracy score with gini criterion: 0.8085\nAccuracy score with entropy criterion: 0.8085\n",
          "output_type": "stream"
        }
      ]
    },
    {
      "cell_type": "code",
      "source": "",
      "metadata": {},
      "execution_count": null,
      "outputs": []
    }
  ]
}